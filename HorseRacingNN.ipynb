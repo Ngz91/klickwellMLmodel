{
 "cells": [
  {
   "cell_type": "markdown",
   "metadata": {},
   "source": [
    "# Building a Neural Network for Klickwell Database"
   ]
  },
  {
   "cell_type": "markdown",
   "metadata": {},
   "source": [
    "Loading the data and doing applying feature engineering for some features"
   ]
  },
  {
   "cell_type": "code",
   "execution_count": 1,
   "metadata": {},
   "outputs": [
    {
     "data": {
      "text/plain": [
       "1200    443\n",
       "1300    273\n",
       "1400    244\n",
       "1100    203\n",
       "1600     41\n",
       "1500     33\n",
       "1800     19\n",
       "1900     12\n",
       "2400     12\n",
       "Name: distancia_pista, dtype: int64"
      ]
     },
     "execution_count": 1,
     "metadata": {},
     "output_type": "execute_result"
    }
   ],
   "source": [
    "import matplotlib.pyplot as plt\n",
    "import pandas as pd\n",
    "import numpy as np\n",
    "\n",
    "horse_data = pd.read_csv(\"datacarreras.csv\")\n",
    "\n",
    "# Wins/Starts\n",
    "horse_data['effect_jinete'] = round(horse_data[\"jinete_gana\"] / horse_data[\"jinete_act\"] * 100, 2)\n",
    "horse_data['effect_trainer'] = round(horse_data[\"trainer_gana\"] / horse_data[\"trainer_act\"] * 100, 2)\n",
    "\n",
    "# Filtering and replacing values\n",
    "\n",
    "horse_data = horse_data.replace(np.inf, 30)\n",
    "horse_data = horse_data[(horse_data.resultado != 0)]\n",
    "horse_data[\"jinete_rep_mon\"].replace(1, 0)\n",
    "horse_data[\"jinete_rep_mon\"].replace(3, 1)\n",
    "\n",
    "# Amelioration of dividends with regards to last race\n",
    "horse_data[\"mej_div\"] = horse_data[\"penult_div\"] - horse_data[\"ult_div\"]\n",
    "\n",
    "horse_data[\"distancia_pista\"].value_counts()"
   ]
  },
  {
   "cell_type": "code",
   "execution_count": 2,
   "metadata": {},
   "outputs": [
    {
     "data": {
      "text/html": [
       "<div>\n",
       "<style scoped>\n",
       "    .dataframe tbody tr th:only-of-type {\n",
       "        vertical-align: middle;\n",
       "    }\n",
       "\n",
       "    .dataframe tbody tr th {\n",
       "        vertical-align: top;\n",
       "    }\n",
       "\n",
       "    .dataframe thead th {\n",
       "        text-align: right;\n",
       "    }\n",
       "</style>\n",
       "<table border=\"1\" class=\"dataframe\">\n",
       "  <thead>\n",
       "    <tr style=\"text-align: right;\">\n",
       "      <th></th>\n",
       "      <th>fecha</th>\n",
       "      <th>numero_carrera</th>\n",
       "      <th>distancia_pista</th>\n",
       "      <th>grupo</th>\n",
       "      <th>nombre_caballo</th>\n",
       "      <th>tiempo</th>\n",
       "      <th>ult_div</th>\n",
       "      <th>penult_div</th>\n",
       "      <th>posicion</th>\n",
       "      <th>cuerpos_ult</th>\n",
       "      <th>...</th>\n",
       "      <th>lote</th>\n",
       "      <th>jinete_act</th>\n",
       "      <th>jinete_gana</th>\n",
       "      <th>jinete_rep_mon</th>\n",
       "      <th>trainer_act</th>\n",
       "      <th>trainer_gana</th>\n",
       "      <th>resultado</th>\n",
       "      <th>effect_jinete</th>\n",
       "      <th>effect_trainer</th>\n",
       "      <th>mej_div</th>\n",
       "    </tr>\n",
       "  </thead>\n",
       "  <tbody>\n",
       "    <tr>\n",
       "      <th>0</th>\n",
       "      <td>08-11-2020</td>\n",
       "      <td>1</td>\n",
       "      <td>1800</td>\n",
       "      <td>2</td>\n",
       "      <td>ironhide</td>\n",
       "      <td>113.0</td>\n",
       "      <td>2100</td>\n",
       "      <td>2300</td>\n",
       "      <td>2</td>\n",
       "      <td>4.25</td>\n",
       "      <td>...</td>\n",
       "      <td>2</td>\n",
       "      <td>122</td>\n",
       "      <td>16</td>\n",
       "      <td>3</td>\n",
       "      <td>49</td>\n",
       "      <td>5</td>\n",
       "      <td>6</td>\n",
       "      <td>13.11</td>\n",
       "      <td>10.20</td>\n",
       "      <td>200</td>\n",
       "    </tr>\n",
       "    <tr>\n",
       "      <th>1</th>\n",
       "      <td>08-11-2020</td>\n",
       "      <td>1</td>\n",
       "      <td>1800</td>\n",
       "      <td>2</td>\n",
       "      <td>el ferretero</td>\n",
       "      <td>114.2</td>\n",
       "      <td>10000</td>\n",
       "      <td>10000</td>\n",
       "      <td>7</td>\n",
       "      <td>11.25</td>\n",
       "      <td>...</td>\n",
       "      <td>3</td>\n",
       "      <td>69</td>\n",
       "      <td>1</td>\n",
       "      <td>1</td>\n",
       "      <td>50</td>\n",
       "      <td>0</td>\n",
       "      <td>3</td>\n",
       "      <td>1.45</td>\n",
       "      <td>0.00</td>\n",
       "      <td>0</td>\n",
       "    </tr>\n",
       "    <tr>\n",
       "      <th>2</th>\n",
       "      <td>08-11-2020</td>\n",
       "      <td>1</td>\n",
       "      <td>1800</td>\n",
       "      <td>2</td>\n",
       "      <td>matheew star</td>\n",
       "      <td>115.0</td>\n",
       "      <td>350</td>\n",
       "      <td>350</td>\n",
       "      <td>5</td>\n",
       "      <td>6.50</td>\n",
       "      <td>...</td>\n",
       "      <td>3</td>\n",
       "      <td>43</td>\n",
       "      <td>5</td>\n",
       "      <td>3</td>\n",
       "      <td>93</td>\n",
       "      <td>8</td>\n",
       "      <td>4</td>\n",
       "      <td>11.63</td>\n",
       "      <td>8.60</td>\n",
       "      <td>0</td>\n",
       "    </tr>\n",
       "    <tr>\n",
       "      <th>3</th>\n",
       "      <td>08-11-2020</td>\n",
       "      <td>1</td>\n",
       "      <td>1800</td>\n",
       "      <td>2</td>\n",
       "      <td>power indy</td>\n",
       "      <td>113.3</td>\n",
       "      <td>450</td>\n",
       "      <td>600</td>\n",
       "      <td>3</td>\n",
       "      <td>6.50</td>\n",
       "      <td>...</td>\n",
       "      <td>3</td>\n",
       "      <td>99</td>\n",
       "      <td>14</td>\n",
       "      <td>1</td>\n",
       "      <td>146</td>\n",
       "      <td>19</td>\n",
       "      <td>1</td>\n",
       "      <td>14.14</td>\n",
       "      <td>13.01</td>\n",
       "      <td>150</td>\n",
       "    </tr>\n",
       "    <tr>\n",
       "      <th>4</th>\n",
       "      <td>08-11-2020</td>\n",
       "      <td>1</td>\n",
       "      <td>1800</td>\n",
       "      <td>2</td>\n",
       "      <td>gran giacomo</td>\n",
       "      <td>115.2</td>\n",
       "      <td>540</td>\n",
       "      <td>540</td>\n",
       "      <td>1</td>\n",
       "      <td>0.00</td>\n",
       "      <td>...</td>\n",
       "      <td>1</td>\n",
       "      <td>92</td>\n",
       "      <td>23</td>\n",
       "      <td>1</td>\n",
       "      <td>31</td>\n",
       "      <td>6</td>\n",
       "      <td>8</td>\n",
       "      <td>25.00</td>\n",
       "      <td>19.35</td>\n",
       "      <td>0</td>\n",
       "    </tr>\n",
       "  </tbody>\n",
       "</table>\n",
       "<p>5 rows × 22 columns</p>\n",
       "</div>"
      ],
      "text/plain": [
       "        fecha  numero_carrera  distancia_pista  grupo nombre_caballo  tiempo  \\\n",
       "0  08-11-2020               1             1800      2       ironhide   113.0   \n",
       "1  08-11-2020               1             1800      2   el ferretero   114.2   \n",
       "2  08-11-2020               1             1800      2   matheew star   115.0   \n",
       "3  08-11-2020               1             1800      2     power indy   113.3   \n",
       "4  08-11-2020               1             1800      2   gran giacomo   115.2   \n",
       "\n",
       "   ult_div  penult_div  posicion  cuerpos_ult  ...  lote  jinete_act  \\\n",
       "0     2100        2300         2         4.25  ...     2         122   \n",
       "1    10000       10000         7        11.25  ...     3          69   \n",
       "2      350         350         5         6.50  ...     3          43   \n",
       "3      450         600         3         6.50  ...     3          99   \n",
       "4      540         540         1         0.00  ...     1          92   \n",
       "\n",
       "   jinete_gana  jinete_rep_mon  trainer_act  trainer_gana  resultado  \\\n",
       "0           16               3           49             5          6   \n",
       "1            1               1           50             0          3   \n",
       "2            5               3           93             8          4   \n",
       "3           14               1          146            19          1   \n",
       "4           23               1           31             6          8   \n",
       "\n",
       "   effect_jinete  effect_trainer  mej_div  \n",
       "0          13.11           10.20      200  \n",
       "1           1.45            0.00        0  \n",
       "2          11.63            8.60        0  \n",
       "3          14.14           13.01      150  \n",
       "4          25.00           19.35        0  \n",
       "\n",
       "[5 rows x 22 columns]"
      ]
     },
     "execution_count": 2,
     "metadata": {},
     "output_type": "execute_result"
    }
   ],
   "source": [
    "horse_data.head()"
   ]
  },
  {
   "cell_type": "code",
   "execution_count": 3,
   "metadata": {},
   "outputs": [
    {
     "data": {
      "text/plain": [
       "3     123\n",
       "2     121\n",
       "1     121\n",
       "5     118\n",
       "4     118\n",
       "7     115\n",
       "6     111\n",
       "8     106\n",
       "9      99\n",
       "10     84\n",
       "11     64\n",
       "12     53\n",
       "13     36\n",
       "14     11\n",
       "Name: resultado, dtype: int64"
      ]
     },
     "execution_count": 3,
     "metadata": {},
     "output_type": "execute_result"
    }
   ],
   "source": [
    "horse_data[\"resultado\"].value_counts()"
   ]
  },
  {
   "cell_type": "markdown",
   "metadata": {},
   "source": [
    "Filtering out some irrelevant data and replacing zeros with the mean value of he column"
   ]
  },
  {
   "cell_type": "code",
   "execution_count": 4,
   "metadata": {},
   "outputs": [
    {
     "data": {
      "text/html": [
       "<div>\n",
       "<style scoped>\n",
       "    .dataframe tbody tr th:only-of-type {\n",
       "        vertical-align: middle;\n",
       "    }\n",
       "\n",
       "    .dataframe tbody tr th {\n",
       "        vertical-align: top;\n",
       "    }\n",
       "\n",
       "    .dataframe thead th {\n",
       "        text-align: right;\n",
       "    }\n",
       "</style>\n",
       "<table border=\"1\" class=\"dataframe\">\n",
       "  <thead>\n",
       "    <tr style=\"text-align: right;\">\n",
       "      <th></th>\n",
       "      <th>distancia_pista</th>\n",
       "      <th>tiempo</th>\n",
       "      <th>penult_div</th>\n",
       "      <th>ult_div</th>\n",
       "      <th>mej_div</th>\n",
       "      <th>posicion</th>\n",
       "      <th>cuerpos_ult</th>\n",
       "      <th>distancia_c</th>\n",
       "      <th>lote</th>\n",
       "      <th>jinete_gana</th>\n",
       "      <th>effect_jinete</th>\n",
       "      <th>jinete_rep_mon</th>\n",
       "      <th>trainer_gana</th>\n",
       "      <th>effect_trainer</th>\n",
       "      <th>resultado</th>\n",
       "    </tr>\n",
       "  </thead>\n",
       "  <tbody>\n",
       "    <tr>\n",
       "      <th>0</th>\n",
       "      <td>1800</td>\n",
       "      <td>113.0</td>\n",
       "      <td>2300</td>\n",
       "      <td>2100.0</td>\n",
       "      <td>200.000000</td>\n",
       "      <td>2</td>\n",
       "      <td>4.25</td>\n",
       "      <td>2</td>\n",
       "      <td>2</td>\n",
       "      <td>16</td>\n",
       "      <td>13.11</td>\n",
       "      <td>3</td>\n",
       "      <td>5</td>\n",
       "      <td>10.20</td>\n",
       "      <td>6</td>\n",
       "    </tr>\n",
       "    <tr>\n",
       "      <th>1</th>\n",
       "      <td>1800</td>\n",
       "      <td>114.2</td>\n",
       "      <td>10000</td>\n",
       "      <td>10000.0</td>\n",
       "      <td>-212.833594</td>\n",
       "      <td>7</td>\n",
       "      <td>11.25</td>\n",
       "      <td>1</td>\n",
       "      <td>3</td>\n",
       "      <td>1</td>\n",
       "      <td>1.45</td>\n",
       "      <td>1</td>\n",
       "      <td>0</td>\n",
       "      <td>0.00</td>\n",
       "      <td>3</td>\n",
       "    </tr>\n",
       "    <tr>\n",
       "      <th>2</th>\n",
       "      <td>1800</td>\n",
       "      <td>115.0</td>\n",
       "      <td>350</td>\n",
       "      <td>350.0</td>\n",
       "      <td>-212.833594</td>\n",
       "      <td>5</td>\n",
       "      <td>6.50</td>\n",
       "      <td>2</td>\n",
       "      <td>3</td>\n",
       "      <td>5</td>\n",
       "      <td>11.63</td>\n",
       "      <td>3</td>\n",
       "      <td>8</td>\n",
       "      <td>8.60</td>\n",
       "      <td>4</td>\n",
       "    </tr>\n",
       "    <tr>\n",
       "      <th>3</th>\n",
       "      <td>1800</td>\n",
       "      <td>113.3</td>\n",
       "      <td>600</td>\n",
       "      <td>450.0</td>\n",
       "      <td>150.000000</td>\n",
       "      <td>3</td>\n",
       "      <td>6.50</td>\n",
       "      <td>3</td>\n",
       "      <td>3</td>\n",
       "      <td>14</td>\n",
       "      <td>14.14</td>\n",
       "      <td>1</td>\n",
       "      <td>19</td>\n",
       "      <td>13.01</td>\n",
       "      <td>1</td>\n",
       "    </tr>\n",
       "    <tr>\n",
       "      <th>4</th>\n",
       "      <td>1800</td>\n",
       "      <td>115.2</td>\n",
       "      <td>540</td>\n",
       "      <td>540.0</td>\n",
       "      <td>-212.833594</td>\n",
       "      <td>1</td>\n",
       "      <td>0.00</td>\n",
       "      <td>2</td>\n",
       "      <td>1</td>\n",
       "      <td>23</td>\n",
       "      <td>25.00</td>\n",
       "      <td>1</td>\n",
       "      <td>6</td>\n",
       "      <td>19.35</td>\n",
       "      <td>8</td>\n",
       "    </tr>\n",
       "  </tbody>\n",
       "</table>\n",
       "</div>"
      ],
      "text/plain": [
       "   distancia_pista  tiempo  penult_div  ult_div     mej_div  posicion  \\\n",
       "0             1800   113.0        2300   2100.0  200.000000         2   \n",
       "1             1800   114.2       10000  10000.0 -212.833594         7   \n",
       "2             1800   115.0         350    350.0 -212.833594         5   \n",
       "3             1800   113.3         600    450.0  150.000000         3   \n",
       "4             1800   115.2         540    540.0 -212.833594         1   \n",
       "\n",
       "   cuerpos_ult  distancia_c  lote  jinete_gana  effect_jinete  jinete_rep_mon  \\\n",
       "0         4.25            2     2           16          13.11               3   \n",
       "1        11.25            1     3            1           1.45               1   \n",
       "2         6.50            2     3            5          11.63               3   \n",
       "3         6.50            3     3           14          14.14               1   \n",
       "4         0.00            2     1           23          25.00               1   \n",
       "\n",
       "   trainer_gana  effect_trainer  resultado  \n",
       "0             5           10.20          6  \n",
       "1             0            0.00          3  \n",
       "2             8            8.60          4  \n",
       "3            19           13.01          1  \n",
       "4             6           19.35          8  "
      ]
     },
     "execution_count": 4,
     "metadata": {},
     "output_type": "execute_result"
    }
   ],
   "source": [
    "horse_data = horse_data[['distancia_pista', 'tiempo', 'penult_div','ult_div', 'mej_div','posicion','cuerpos_ult', 'distancia_c', 'lote', 'jinete_gana', 'effect_jinete', 'jinete_rep_mon', 'trainer_gana','effect_trainer', 'resultado']]\n",
    "horse_data[\"ult_div\"].replace(0, horse_data[\"ult_div\"].mean(axis=0), inplace=True)\n",
    "horse_data[\"mej_div\"].replace(0, horse_data[\"mej_div\"].mean(axis=0), inplace=True)\n",
    "horse_data.head()"
   ]
  },
  {
   "cell_type": "markdown",
   "metadata": {},
   "source": [
    "Any result over 6 gets put in the 6 category which could be called loosers, since there are a lot of values the neural network would just pradict as much 6s as possible so better leave this out for the momment until finding a workaround for this."
   ]
  },
  {
   "cell_type": "code",
   "execution_count": null,
   "metadata": {},
   "outputs": [],
   "source": [
    "#horse_data['resultado'] -= 1\n",
    "\n",
    "#for i in horse_data['resultado']:\n",
    "#    if i > 6:\n",
    "#        horse_data['resultado'].replace(i, 6, inplace=True)\n",
    "        \n",
    "horse_data"
   ]
  },
  {
   "cell_type": "markdown",
   "metadata": {},
   "source": [
    "Divide the races by distances, separating long distance races and short distance into 2 separate groups of data. Horses in Venezuela are prone to lose in long distance races if they have only ran races bellow 1200 mts. Also, the neural network will only get input for the horses that arrived in the first 5 positions, since the program Klickwell already have a good percentage of having the winning horse in its 4 picks.\n",
    "\n",
    "And make a category for generating a stratified sampling of the data."
   ]
  },
  {
   "cell_type": "code",
   "execution_count": 5,
   "metadata": {},
   "outputs": [
    {
     "name": "stderr",
     "output_type": "stream",
     "text": [
      "/usr/local/lib/python3.7/dist-packages/ipykernel_launcher.py:9: SettingWithCopyWarning: \n",
      "A value is trying to be set on a copy of a slice from a DataFrame.\n",
      "Try using .loc[row_indexer,col_indexer] = value instead\n",
      "\n",
      "See the caveats in the documentation: https://pandas.pydata.org/pandas-docs/stable/user_guide/indexing.html#returning-a-view-versus-a-copy\n",
      "  if __name__ == '__main__':\n",
      "/usr/local/lib/python3.7/dist-packages/ipykernel_launcher.py:10: SettingWithCopyWarning: \n",
      "A value is trying to be set on a copy of a slice from a DataFrame.\n",
      "Try using .loc[row_indexer,col_indexer] = value instead\n",
      "\n",
      "See the caveats in the documentation: https://pandas.pydata.org/pandas-docs/stable/user_guide/indexing.html#returning-a-view-versus-a-copy\n",
      "  # Remove the CWD from sys.path while we load stuff.\n"
     ]
    },
    {
     "data": {
      "text/plain": [
       "<AxesSubplot:>"
      ]
     },
     "execution_count": 5,
     "metadata": {},
     "output_type": "execute_result"
    },
    {
     "data": {
      "image/png": "[encoded data removed]",
      "text/plain": [
       "<Figure size 432x288 with 1 Axes>"
      ]
     },
     "metadata": {
      "needs_background": "light"
     },
     "output_type": "display_data"
    }
   ],
   "source": [
    "from sklearn.model_selection import train_test_split\n",
    "from sklearn.model_selection import StratifiedShuffleSplit\n",
    "\n",
    "carreras_1200 = horse_data.loc[horse_data['distancia_pista'] <= 1200]\n",
    "carreras_1200_gana = carreras_1200.loc[horse_data['resultado'] <= 5]\n",
    "carreras_1300_plus = horse_data.loc[horse_data['distancia_pista'] >=1300]\n",
    "carreras_1300_plus_gana = carreras_1300_plus.loc[horse_data['resultado'] <= 5]\n",
    "\n",
    "carreras_1200_gana[\"resultado_cat\"] = pd.cut(carreras_1200_gana[\"resultado\"], bins=[0., 1, 2, 3, 4, 5], labels=[1, 2, 3, 4, 5])\n",
    "carreras_1300_plus_gana[\"resultado_cat\"] = pd.cut(carreras_1300_plus_gana[\"resultado\"], bins=[0., 1, 2, 3, 4, 5], labels=[1, 2, 3, 4, 5])\n",
    "\n",
    "carreras_1300_plus_gana[\"resultado_cat\"].hist()"
   ]
  },
  {
   "cell_type": "code",
   "execution_count": 6,
   "metadata": {},
   "outputs": [],
   "source": [
    "split = StratifiedShuffleSplit(n_splits=1, test_size=0.1, random_state=42)\n",
    "\n",
    "for train_index, test_index in split.split(carreras_1200_gana, carreras_1200_gana[\"resultado_cat\"]):\n",
    "    carreras_1200_train_strat = carreras_1200_gana.iloc[train_index]\n",
    "    carreras_1200_test_strat = carreras_1200_gana.iloc[test_index]\n",
    "    \n",
    "for train_index, test_index in split.split(carreras_1300_plus_gana, carreras_1300_plus_gana[\"resultado_cat\"]):\n",
    "    carreras_1300_train_strat = carreras_1300_plus_gana.iloc[train_index]\n",
    "    carreras_1300_test_strat = carreras_1300_plus_gana.iloc[test_index]"
   ]
  },
  {
   "cell_type": "code",
   "execution_count": 7,
   "metadata": {},
   "outputs": [
    {
     "data": {
      "text/plain": [
       "5    0.2\n",
       "4    0.2\n",
       "3    0.2\n",
       "2    0.2\n",
       "1    0.2\n",
       "Name: resultado_cat, dtype: float64"
      ]
     },
     "execution_count": 7,
     "metadata": {},
     "output_type": "execute_result"
    }
   ],
   "source": [
    "carreras_1300_test_strat[\"resultado_cat\"].value_counts() / len(carreras_1300_test_strat)"
   ]
  },
  {
   "cell_type": "code",
   "execution_count": 8,
   "metadata": {},
   "outputs": [
    {
     "name": "stderr",
     "output_type": "stream",
     "text": [
      "/home/Nj1991/.local/lib/python3.7/site-packages/pandas/core/frame.py:4164: SettingWithCopyWarning: \n",
      "A value is trying to be set on a copy of a slice from a DataFrame\n",
      "\n",
      "See the caveats in the documentation: https://pandas.pydata.org/pandas-docs/stable/user_guide/indexing.html#returning-a-view-versus-a-copy\n",
      "  errors=errors,\n"
     ]
    }
   ],
   "source": [
    "for set_ in (carreras_1200_train_strat, carreras_1200_test_strat):\n",
    "    set_.drop(\"resultado_cat\", axis=1, inplace=True)\n",
    "    \n",
    "for set_ in (carreras_1300_train_strat, carreras_1300_test_strat):\n",
    "    set_.drop(\"resultado_cat\", axis=1, inplace=True)"
   ]
  },
  {
   "cell_type": "markdown",
   "metadata": {},
   "source": [
    "Looking at the correlations"
   ]
  },
  {
   "cell_type": "code",
   "execution_count": 9,
   "metadata": {},
   "outputs": [
    {
     "data": {
      "text/plain": [
       "jinete_gana       -0.148244\n",
       "effect_jinete     -0.130815\n",
       "effect_trainer    -0.116217\n",
       "trainer_gana      -0.087582\n",
       "distancia_c       -0.070466\n",
       "lote              -0.055280\n",
       "mej_div           -0.043274\n",
       "distancia_pista    0.003763\n",
       "jinete_rep_mon     0.016622\n",
       "tiempo             0.029818\n",
       "penult_div         0.170154\n",
       "ult_div            0.209363\n",
       "cuerpos_ult        0.212176\n",
       "posicion           0.234942\n",
       "resultado          1.000000\n",
       "Name: resultado, dtype: float64"
      ]
     },
     "execution_count": 9,
     "metadata": {},
     "output_type": "execute_result"
    }
   ],
   "source": [
    "horse_corr_matrix_1300_plus = carreras_1300_plus_gana.corr()\n",
    "horse_corr_matrix_1300_plus['resultado'].sort_values(ascending=True)"
   ]
  },
  {
   "cell_type": "code",
   "execution_count": 10,
   "metadata": {},
   "outputs": [
    {
     "data": {
      "text/plain": [
       "effect_jinete     -0.150652\n",
       "distancia_c       -0.139777\n",
       "mej_div           -0.091707\n",
       "jinete_rep_mon    -0.077193\n",
       "trainer_gana      -0.064482\n",
       "effect_trainer    -0.035140\n",
       "jinete_gana       -0.033050\n",
       "distancia_pista   -0.031332\n",
       "lote              -0.000439\n",
       "tiempo             0.037428\n",
       "penult_div         0.140726\n",
       "ult_div            0.211907\n",
       "cuerpos_ult        0.233131\n",
       "posicion           0.245899\n",
       "resultado          1.000000\n",
       "Name: resultado, dtype: float64"
      ]
     },
     "execution_count": 10,
     "metadata": {},
     "output_type": "execute_result"
    }
   ],
   "source": [
    "horse_corr_matrix_1200 = carreras_1200_gana.corr()\n",
    "horse_corr_matrix_1200['resultado'].sort_values(ascending=True)"
   ]
  },
  {
   "cell_type": "markdown",
   "metadata": {},
   "source": [
    "Seems like position, bodies, dividends and effectiveness of the jokey and trainer have some correlation in both datasets, although not high enough. Next, in the results column, substract one, since keras to_categorical gives of an error if there is no zero value. (Keras Version 2.3.0)"
   ]
  },
  {
   "cell_type": "code",
   "execution_count": 11,
   "metadata": {},
   "outputs": [
    {
     "name": "stderr",
     "output_type": "stream",
     "text": [
      "/usr/local/lib/python3.7/dist-packages/ipykernel_launcher.py:1: SettingWithCopyWarning: \n",
      "A value is trying to be set on a copy of a slice from a DataFrame.\n",
      "Try using .loc[row_indexer,col_indexer] = value instead\n",
      "\n",
      "See the caveats in the documentation: https://pandas.pydata.org/pandas-docs/stable/user_guide/indexing.html#returning-a-view-versus-a-copy\n",
      "  \"\"\"Entry point for launching an IPython kernel.\n",
      "/usr/local/lib/python3.7/dist-packages/ipykernel_launcher.py:2: SettingWithCopyWarning: \n",
      "A value is trying to be set on a copy of a slice from a DataFrame.\n",
      "Try using .loc[row_indexer,col_indexer] = value instead\n",
      "\n",
      "See the caveats in the documentation: https://pandas.pydata.org/pandas-docs/stable/user_guide/indexing.html#returning-a-view-versus-a-copy\n",
      "  \n"
     ]
    },
    {
     "data": {
      "text/html": [
       "<div>\n",
       "<style scoped>\n",
       "    .dataframe tbody tr th:only-of-type {\n",
       "        vertical-align: middle;\n",
       "    }\n",
       "\n",
       "    .dataframe tbody tr th {\n",
       "        vertical-align: top;\n",
       "    }\n",
       "\n",
       "    .dataframe thead th {\n",
       "        text-align: right;\n",
       "    }\n",
       "</style>\n",
       "<table border=\"1\" class=\"dataframe\">\n",
       "  <thead>\n",
       "    <tr style=\"text-align: right;\">\n",
       "      <th></th>\n",
       "      <th>distancia_pista</th>\n",
       "      <th>tiempo</th>\n",
       "      <th>penult_div</th>\n",
       "      <th>ult_div</th>\n",
       "      <th>mej_div</th>\n",
       "      <th>posicion</th>\n",
       "      <th>cuerpos_ult</th>\n",
       "      <th>distancia_c</th>\n",
       "      <th>lote</th>\n",
       "      <th>jinete_gana</th>\n",
       "      <th>effect_jinete</th>\n",
       "      <th>jinete_rep_mon</th>\n",
       "      <th>trainer_gana</th>\n",
       "      <th>effect_trainer</th>\n",
       "    </tr>\n",
       "  </thead>\n",
       "  <tbody>\n",
       "    <tr>\n",
       "      <th>1088</th>\n",
       "      <td>1300</td>\n",
       "      <td>80.4</td>\n",
       "      <td>800</td>\n",
       "      <td>700.0</td>\n",
       "      <td>100.000000</td>\n",
       "      <td>3</td>\n",
       "      <td>3.50</td>\n",
       "      <td>3</td>\n",
       "      <td>3</td>\n",
       "      <td>20</td>\n",
       "      <td>13.70</td>\n",
       "      <td>3</td>\n",
       "      <td>2</td>\n",
       "      <td>16.67</td>\n",
       "    </tr>\n",
       "    <tr>\n",
       "      <th>530</th>\n",
       "      <td>1300</td>\n",
       "      <td>81.4</td>\n",
       "      <td>260</td>\n",
       "      <td>450.0</td>\n",
       "      <td>-190.000000</td>\n",
       "      <td>4</td>\n",
       "      <td>8.25</td>\n",
       "      <td>3</td>\n",
       "      <td>3</td>\n",
       "      <td>3</td>\n",
       "      <td>9.38</td>\n",
       "      <td>1</td>\n",
       "      <td>13</td>\n",
       "      <td>18.06</td>\n",
       "    </tr>\n",
       "    <tr>\n",
       "      <th>470</th>\n",
       "      <td>1300</td>\n",
       "      <td>82.1</td>\n",
       "      <td>1600</td>\n",
       "      <td>1000.0</td>\n",
       "      <td>600.000000</td>\n",
       "      <td>2</td>\n",
       "      <td>3.00</td>\n",
       "      <td>3</td>\n",
       "      <td>3</td>\n",
       "      <td>5</td>\n",
       "      <td>7.25</td>\n",
       "      <td>3</td>\n",
       "      <td>5</td>\n",
       "      <td>7.25</td>\n",
       "    </tr>\n",
       "    <tr>\n",
       "      <th>494</th>\n",
       "      <td>1400</td>\n",
       "      <td>87.1</td>\n",
       "      <td>1500</td>\n",
       "      <td>300.0</td>\n",
       "      <td>1200.000000</td>\n",
       "      <td>2</td>\n",
       "      <td>0.50</td>\n",
       "      <td>3</td>\n",
       "      <td>3</td>\n",
       "      <td>19</td>\n",
       "      <td>14.18</td>\n",
       "      <td>1</td>\n",
       "      <td>17</td>\n",
       "      <td>14.78</td>\n",
       "    </tr>\n",
       "    <tr>\n",
       "      <th>966</th>\n",
       "      <td>1300</td>\n",
       "      <td>79.2</td>\n",
       "      <td>300</td>\n",
       "      <td>300.0</td>\n",
       "      <td>-212.833594</td>\n",
       "      <td>2</td>\n",
       "      <td>0.10</td>\n",
       "      <td>3</td>\n",
       "      <td>4</td>\n",
       "      <td>18</td>\n",
       "      <td>14.40</td>\n",
       "      <td>1</td>\n",
       "      <td>18</td>\n",
       "      <td>13.85</td>\n",
       "    </tr>\n",
       "    <tr>\n",
       "      <th>...</th>\n",
       "      <td>...</td>\n",
       "      <td>...</td>\n",
       "      <td>...</td>\n",
       "      <td>...</td>\n",
       "      <td>...</td>\n",
       "      <td>...</td>\n",
       "      <td>...</td>\n",
       "      <td>...</td>\n",
       "      <td>...</td>\n",
       "      <td>...</td>\n",
       "      <td>...</td>\n",
       "      <td>...</td>\n",
       "      <td>...</td>\n",
       "      <td>...</td>\n",
       "    </tr>\n",
       "    <tr>\n",
       "      <th>2</th>\n",
       "      <td>1800</td>\n",
       "      <td>115.0</td>\n",
       "      <td>350</td>\n",
       "      <td>350.0</td>\n",
       "      <td>-212.833594</td>\n",
       "      <td>5</td>\n",
       "      <td>6.50</td>\n",
       "      <td>2</td>\n",
       "      <td>3</td>\n",
       "      <td>5</td>\n",
       "      <td>11.63</td>\n",
       "      <td>3</td>\n",
       "      <td>8</td>\n",
       "      <td>8.60</td>\n",
       "    </tr>\n",
       "    <tr>\n",
       "      <th>1068</th>\n",
       "      <td>1300</td>\n",
       "      <td>78.3</td>\n",
       "      <td>550</td>\n",
       "      <td>550.0</td>\n",
       "      <td>-212.833594</td>\n",
       "      <td>2</td>\n",
       "      <td>0.50</td>\n",
       "      <td>3</td>\n",
       "      <td>3</td>\n",
       "      <td>14</td>\n",
       "      <td>17.07</td>\n",
       "      <td>1</td>\n",
       "      <td>25</td>\n",
       "      <td>18.52</td>\n",
       "    </tr>\n",
       "    <tr>\n",
       "      <th>1112</th>\n",
       "      <td>1300</td>\n",
       "      <td>81.1</td>\n",
       "      <td>600</td>\n",
       "      <td>900.0</td>\n",
       "      <td>-300.000000</td>\n",
       "      <td>2</td>\n",
       "      <td>4.75</td>\n",
       "      <td>3</td>\n",
       "      <td>3</td>\n",
       "      <td>0</td>\n",
       "      <td>0.00</td>\n",
       "      <td>1</td>\n",
       "      <td>8</td>\n",
       "      <td>17.02</td>\n",
       "    </tr>\n",
       "    <tr>\n",
       "      <th>527</th>\n",
       "      <td>1300</td>\n",
       "      <td>82.4</td>\n",
       "      <td>2900</td>\n",
       "      <td>1200.0</td>\n",
       "      <td>1700.000000</td>\n",
       "      <td>10</td>\n",
       "      <td>14.00</td>\n",
       "      <td>2</td>\n",
       "      <td>3</td>\n",
       "      <td>8</td>\n",
       "      <td>12.12</td>\n",
       "      <td>3</td>\n",
       "      <td>24</td>\n",
       "      <td>13.95</td>\n",
       "    </tr>\n",
       "    <tr>\n",
       "      <th>280</th>\n",
       "      <td>1400</td>\n",
       "      <td>86.2</td>\n",
       "      <td>900</td>\n",
       "      <td>900.0</td>\n",
       "      <td>-212.833594</td>\n",
       "      <td>6</td>\n",
       "      <td>0.00</td>\n",
       "      <td>0</td>\n",
       "      <td>3</td>\n",
       "      <td>17</td>\n",
       "      <td>13.71</td>\n",
       "      <td>1</td>\n",
       "      <td>22</td>\n",
       "      <td>17.60</td>\n",
       "    </tr>\n",
       "  </tbody>\n",
       "</table>\n",
       "<p>265 rows × 14 columns</p>\n",
       "</div>"
      ],
      "text/plain": [
       "      distancia_pista  tiempo  penult_div  ult_div      mej_div  posicion  \\\n",
       "1088             1300    80.4         800    700.0   100.000000         3   \n",
       "530              1300    81.4         260    450.0  -190.000000         4   \n",
       "470              1300    82.1        1600   1000.0   600.000000         2   \n",
       "494              1400    87.1        1500    300.0  1200.000000         2   \n",
       "966              1300    79.2         300    300.0  -212.833594         2   \n",
       "...               ...     ...         ...      ...          ...       ...   \n",
       "2                1800   115.0         350    350.0  -212.833594         5   \n",
       "1068             1300    78.3         550    550.0  -212.833594         2   \n",
       "1112             1300    81.1         600    900.0  -300.000000         2   \n",
       "527              1300    82.4        2900   1200.0  1700.000000        10   \n",
       "280              1400    86.2         900    900.0  -212.833594         6   \n",
       "\n",
       "      cuerpos_ult  distancia_c  lote  jinete_gana  effect_jinete  \\\n",
       "1088         3.50            3     3           20          13.70   \n",
       "530          8.25            3     3            3           9.38   \n",
       "470          3.00            3     3            5           7.25   \n",
       "494          0.50            3     3           19          14.18   \n",
       "966          0.10            3     4           18          14.40   \n",
       "...           ...          ...   ...          ...            ...   \n",
       "2            6.50            2     3            5          11.63   \n",
       "1068         0.50            3     3           14          17.07   \n",
       "1112         4.75            3     3            0           0.00   \n",
       "527         14.00            2     3            8          12.12   \n",
       "280          0.00            0     3           17          13.71   \n",
       "\n",
       "      jinete_rep_mon  trainer_gana  effect_trainer  \n",
       "1088               3             2           16.67  \n",
       "530                1            13           18.06  \n",
       "470                3             5            7.25  \n",
       "494                1            17           14.78  \n",
       "966                1            18           13.85  \n",
       "...              ...           ...             ...  \n",
       "2                  3             8            8.60  \n",
       "1068               1            25           18.52  \n",
       "1112               1             8           17.02  \n",
       "527                3            24           13.95  \n",
       "280                1            22           17.60  \n",
       "\n",
       "[265 rows x 14 columns]"
      ]
     },
     "execution_count": 11,
     "metadata": {},
     "output_type": "execute_result"
    }
   ],
   "source": [
    "carreras_1200_train_strat['resultado'] -= 1\n",
    "carreras_1300_train_strat['resultado'] -= 1\n",
    "\n",
    "carreras_1200_r = carreras_1200_train_strat[\"resultado\"].copy()\n",
    "carreras_1300_plus_r = carreras_1300_train_strat[\"resultado\"].copy()\n",
    "\n",
    "carreras_1200_train_strat.drop(\"resultado\", axis=1)\n",
    "carreras_1300_train_strat.drop(\"resultado\", axis=1)"
   ]
  },
  {
   "cell_type": "markdown",
   "metadata": {},
   "source": [
    "Pick the values that might yield some positive results."
   ]
  },
  {
   "cell_type": "code",
   "execution_count": 12,
   "metadata": {},
   "outputs": [],
   "source": [
    "carreras_1200_prepared = carreras_1200_train_strat[['tiempo', 'ult_div', 'penult_div', 'mej_div','posicion','cuerpos_ult', 'distancia_c', 'lote', 'effect_jinete', 'jinete_rep_mon', 'effect_trainer']]\n",
    "carreras_1300_prepared = carreras_1300_train_strat[['tiempo', 'ult_div', 'penult_div', 'mej_div','posicion','cuerpos_ult', 'distancia_c', 'lote', 'effect_jinete', 'jinete_rep_mon', 'effect_trainer']]"
   ]
  },
  {
   "cell_type": "code",
   "execution_count": 13,
   "metadata": {},
   "outputs": [
    {
     "data": {
      "text/plain": [
       "3    54\n",
       "0    54\n",
       "2    53\n",
       "1    53\n",
       "4    51\n",
       "Name: resultado, dtype: int64"
      ]
     },
     "execution_count": 13,
     "metadata": {},
     "output_type": "execute_result"
    }
   ],
   "source": [
    "carreras_1300_plus_r.value_counts()"
   ]
  },
  {
   "cell_type": "markdown",
   "metadata": {},
   "source": [
    "Use Scikit-Learn StandardScaler to scale the data since some features are in a diferent scale from others."
   ]
  },
  {
   "cell_type": "code",
   "execution_count": 14,
   "metadata": {},
   "outputs": [
    {
     "name": "stderr",
     "output_type": "stream",
     "text": [
      "Using Theano backend.\n"
     ]
    }
   ],
   "source": [
    "import keras as keras\n",
    "from sklearn.preprocessing import StandardScaler\n",
    "from sklearn.pipeline import Pipeline\n",
    "\n",
    "transform_data = Pipeline([\n",
    "    (\"scaler\", StandardScaler())\n",
    "])\n",
    "\n",
    "X_1200, X_1200_val, y_1200, y_1200_val = train_test_split(carreras_1200_prepared, carreras_1200_r, test_size=0.1, random_state=42)\n",
    "X_1300, X_1300_val, y_1300, y_1300_val = train_test_split(carreras_1300_prepared, carreras_1300_plus_r, test_size=0.1, random_state=42)\n",
    "\n",
    "y_1200 = keras.utils.to_categorical(np.array(y_1200))\n",
    "y_1300 = keras.utils.to_categorical(np.array(y_1300))\n",
    "\n",
    "y_1200_val = keras.utils.to_categorical(np.array(y_1200_val))\n",
    "y_1300_val = keras.utils.to_categorical(np.array(y_1300_val))\n",
    "\n",
    "y_test_1200 = carreras_1200_test_strat[\"resultado\"].copy()\n",
    "y_test_1300 = carreras_1300_test_strat[\"resultado\"].copy()\n",
    "\n",
    "X_test_1200 = carreras_1200_test_strat[['tiempo', 'ult_div', 'penult_div', 'mej_div','posicion', 'cuerpos_ult', 'distancia_c', 'lote', 'effect_jinete', 'jinete_rep_mon', 'effect_trainer']]\n",
    "X_test_1300 = carreras_1300_test_strat[['tiempo', 'ult_div', 'penult_div', 'mej_div','posicion', 'cuerpos_ult', 'distancia_c', 'lote', 'effect_jinete', 'jinete_rep_mon', 'effect_trainer']]\n",
    "\n",
    "X_1200 = transform_data.fit_transform(X_1200)\n",
    "X_1300 = transform_data.fit_transform(X_1300)\n",
    "\n",
    "X_1200_val = transform_data.fit_transform(X_1200_val)\n",
    "X_1300_val = transform_data.fit_transform(X_1300_val)\n",
    "\n",
    "X_test_1200 = transform_data.fit_transform(X_test_1200)\n",
    "X_test_1300 = transform_data.fit_transform(X_test_1300)"
   ]
  },
  {
   "cell_type": "code",
   "execution_count": 15,
   "metadata": {},
   "outputs": [
    {
     "name": "stdout",
     "output_type": "stream",
     "text": [
      "(238, 11)\n",
      "(238, 5)\n"
     ]
    }
   ],
   "source": [
    "print(f\"{X_1300.shape}\")\n",
    "print(f\"{y_1300.shape}\")"
   ]
  },
  {
   "cell_type": "markdown",
   "metadata": {},
   "source": [
    "# Sequential Dense layers model"
   ]
  },
  {
   "cell_type": "markdown",
   "metadata": {},
   "source": [
    "An standard model to test. Added some weight regularizers to fight overfitting, also tried Dropout layers, but with no good results."
   ]
  },
  {
   "cell_type": "code",
   "execution_count": 20,
   "metadata": {},
   "outputs": [
    {
     "name": "stdout",
     "output_type": "stream",
     "text": [
      "Model: \"sequential_3\"\n",
      "_________________________________________________________________\n",
      "Layer (type)                 Output Shape              Param #   \n",
      "=================================================================\n",
      "dense_5 (Dense)              (None, 32)                384       \n",
      "_________________________________________________________________\n",
      "batch_normalization_3 (Batch (None, 32)                128       \n",
      "_________________________________________________________________\n",
      "dense_6 (Dense)              (None, 48)                1584      \n",
      "_________________________________________________________________\n",
      "batch_normalization_4 (Batch (None, 48)                192       \n",
      "_________________________________________________________________\n",
      "dense_7 (Dense)              (None, 5)                 245       \n",
      "=================================================================\n",
      "Total params: 2,533\n",
      "Trainable params: 2,373\n",
      "Non-trainable params: 160\n",
      "_________________________________________________________________\n"
     ]
    }
   ],
   "source": [
    "model = keras.models.Sequential([\n",
    "    keras.layers.Dense(32, activation=\"relu\", kernel_regularizer=keras.regularizers.l2(0.1),input_shape=(11,)),\n",
    "    keras.layers.BatchNormalization(),\n",
    "    #keras.layers.Dropout(rate=0.3),\n",
    "    #keras.layers.Dense(32, activation=\"selu\", kernel_initializer=\"lecun_normal\"),\n",
    "    keras.layers.Dense(48, activation=\"relu\",kernel_regularizer=keras.regularizers.l2(0.1)),\n",
    "    keras.layers.BatchNormalization(),\n",
    "    #keras.layers.Dropout(rate=0.3),\n",
    "    keras.layers.Dense(5, activation=\"softmax\")\n",
    "])\n",
    "\n",
    "model.compile(optimizer=keras.optimizers.SGD(learning_rate=0.001, momentum=0.9, nesterov=True), \n",
    "              loss=keras.losses.CategoricalCrossentropy(),\n",
    "              metrics=[\"accuracy\"])\n",
    "\n",
    "model.summary()"
   ]
  },
  {
   "cell_type": "markdown",
   "metadata": {},
   "source": [
    "# Sequential ConvNet1D model (To Do)"
   ]
  },
  {
   "cell_type": "markdown",
   "metadata": {},
   "source": [
    "Will need to reshape the data so a ConvNet1D model can read it, at the moment will stick to the standard model."
   ]
  },
  {
   "cell_type": "code",
   "execution_count": 17,
   "metadata": {},
   "outputs": [
    {
     "name": "stdout",
     "output_type": "stream",
     "text": [
      "Model: \"sequential_2\"\n",
      "_________________________________________________________________\n",
      "Layer (type)                 Output Shape              Param #   \n",
      "=================================================================\n",
      "conv1d_1 (Conv1D)            (None, None, 32)          736       \n",
      "_________________________________________________________________\n",
      "max_pooling1d_1 (MaxPooling1 (None, None, 32)          0         \n",
      "_________________________________________________________________\n",
      "conv1d_2 (Conv1D)            (None, None, 32)          1056      \n",
      "_________________________________________________________________\n",
      "global_max_pooling1d_1 (Glob (None, 32)                0         \n",
      "_________________________________________________________________\n",
      "dense_4 (Dense)              (None, 5)                 165       \n",
      "=================================================================\n",
      "Total params: 1,957\n",
      "Trainable params: 1,957\n",
      "Non-trainable params: 0\n",
      "_________________________________________________________________\n"
     ]
    }
   ],
   "source": [
    "#X_1300 = np.expand_dims(X_1300, axis=0)\n",
    "\n",
    "model = keras.models.Sequential([\n",
    "    keras.layers.Conv1D(32, 2,input_shape=(None, X_1300.shape[-1])),\n",
    "    keras.layers.MaxPool1D(2),\n",
    "    keras.layers.Conv1D(32, 1, activation='relu'),\n",
    "    keras.layers.GlobalMaxPool1D(),\n",
    "    keras.layers.Dense(5, activation='softmax')\n",
    "])\n",
    "\n",
    "model.compile(optimizer=keras.optimizers.RMSprop(), \n",
    "              loss=keras.losses.CategoricalCrossentropy(),\n",
    "              metrics=['acc'])\n",
    "\n",
    "model.summary()"
   ]
  },
  {
   "cell_type": "code",
   "execution_count": null,
   "metadata": {},
   "outputs": [],
   "source": [
    "#X_1300_val = np.expand_dims(X_1300_val, axis=0)\n",
    "\n",
    "X_1300.shape\n",
    "X_1300_val.shape"
   ]
  },
  {
   "cell_type": "code",
   "execution_count": 21,
   "metadata": {
    "scrolled": true
   },
   "outputs": [
    {
     "name": "stdout",
     "output_type": "stream",
     "text": [
      "Train on 238 samples, validate on 27 samples\n",
      "Epoch 1/50\n",
      "238/238 [==============================] - 0s 615us/step - loss: 7.5305 - accuracy: 0.2311 - val_loss: 7.0387 - val_accuracy: 0.1111\n",
      "Epoch 2/50\n",
      "238/238 [==============================] - 0s 507us/step - loss: 7.3719 - accuracy: 0.2059 - val_loss: 6.9023 - val_accuracy: 0.1111\n",
      "Epoch 3/50\n",
      "238/238 [==============================] - 0s 480us/step - loss: 7.0834 - accuracy: 0.2269 - val_loss: 6.7526 - val_accuracy: 0.1111\n",
      "Epoch 4/50\n",
      "238/238 [==============================] - 0s 445us/step - loss: 6.9006 - accuracy: 0.2437 - val_loss: 6.5965 - val_accuracy: 0.1111\n",
      "Epoch 5/50\n",
      "238/238 [==============================] - 0s 225us/step - loss: 6.6739 - accuracy: 0.2521 - val_loss: 6.4401 - val_accuracy: 0.1111\n",
      "Epoch 6/50\n",
      "238/238 [==============================] - 0s 421us/step - loss: 6.4269 - accuracy: 0.2941 - val_loss: 6.2858 - val_accuracy: 0.1481\n",
      "Epoch 7/50\n",
      "238/238 [==============================] - 0s 342us/step - loss: 6.2260 - accuracy: 0.3151 - val_loss: 6.1361 - val_accuracy: 0.1481\n",
      "Epoch 8/50\n",
      "238/238 [==============================] - 0s 368us/step - loss: 6.0174 - accuracy: 0.3067 - val_loss: 5.9932 - val_accuracy: 0.1481\n",
      "Epoch 9/50\n",
      "238/238 [==============================] - 0s 422us/step - loss: 5.8529 - accuracy: 0.2983 - val_loss: 5.8510 - val_accuracy: 0.1852\n",
      "Epoch 10/50\n",
      "238/238 [==============================] - 0s 294us/step - loss: 5.6999 - accuracy: 0.3824 - val_loss: 5.7169 - val_accuracy: 0.1481\n",
      "Epoch 11/50\n",
      "238/238 [==============================] - 0s 351us/step - loss: 5.5867 - accuracy: 0.2983 - val_loss: 5.5885 - val_accuracy: 0.2222\n",
      "Epoch 12/50\n",
      "238/238 [==============================] - ETA: 0s - loss: 5.3899 - accuracy: 0.33 - 0s 379us/step - loss: 5.3751 - accuracy: 0.3319 - val_loss: 5.4656 - val_accuracy: 0.2222\n",
      "Epoch 13/50\n",
      "238/238 [==============================] - 0s 276us/step - loss: 5.2582 - accuracy: 0.3529 - val_loss: 5.3515 - val_accuracy: 0.2222\n",
      "Epoch 14/50\n",
      "238/238 [==============================] - 0s 366us/step - loss: 5.0951 - accuracy: 0.3992 - val_loss: 5.2335 - val_accuracy: 0.2222\n",
      "Epoch 15/50\n",
      "238/238 [==============================] - 0s 397us/step - loss: 4.9786 - accuracy: 0.3908 - val_loss: 5.1187 - val_accuracy: 0.2222\n",
      "Epoch 16/50\n",
      "238/238 [==============================] - 0s 338us/step - loss: 4.8121 - accuracy: 0.4202 - val_loss: 5.0083 - val_accuracy: 0.2593\n",
      "Epoch 17/50\n",
      "238/238 [==============================] - 0s 448us/step - loss: 4.7115 - accuracy: 0.4118 - val_loss: 4.8992 - val_accuracy: 0.2593\n",
      "Epoch 18/50\n",
      "238/238 [==============================] - 0s 717us/step - loss: 4.5948 - accuracy: 0.4286 - val_loss: 4.7931 - val_accuracy: 0.2593\n",
      "Epoch 19/50\n",
      "238/238 [==============================] - 0s 819us/step - loss: 4.4612 - accuracy: 0.4118 - val_loss: 4.6936 - val_accuracy: 0.2593\n",
      "Epoch 20/50\n",
      "238/238 [==============================] - 0s 586us/step - loss: 4.3308 - accuracy: 0.4454 - val_loss: 4.5975 - val_accuracy: 0.2593\n",
      "Epoch 21/50\n",
      "238/238 [==============================] - 0s 686us/step - loss: 4.2646 - accuracy: 0.4118 - val_loss: 4.5038 - val_accuracy: 0.2593\n",
      "Epoch 22/50\n",
      "238/238 [==============================] - 0s 423us/step - loss: 4.1476 - accuracy: 0.4202 - val_loss: 4.4167 - val_accuracy: 0.2593\n",
      "Epoch 23/50\n",
      "238/238 [==============================] - 0s 420us/step - loss: 4.0616 - accuracy: 0.4244 - val_loss: 4.3333 - val_accuracy: 0.2593\n",
      "Epoch 24/50\n",
      "238/238 [==============================] - 0s 401us/step - loss: 3.9403 - accuracy: 0.4664 - val_loss: 4.2494 - val_accuracy: 0.2593\n",
      "Epoch 25/50\n",
      "238/238 [==============================] - 0s 233us/step - loss: 3.8446 - accuracy: 0.4958 - val_loss: 4.1658 - val_accuracy: 0.2222\n",
      "Epoch 26/50\n",
      "238/238 [==============================] - 0s 281us/step - loss: 3.7611 - accuracy: 0.5084 - val_loss: 4.0827 - val_accuracy: 0.2222\n",
      "Epoch 27/50\n",
      "238/238 [==============================] - 0s 345us/step - loss: 3.6127 - accuracy: 0.5336 - val_loss: 4.0080 - val_accuracy: 0.2222\n",
      "Epoch 28/50\n",
      "238/238 [==============================] - 0s 491us/step - loss: 3.5432 - accuracy: 0.5000 - val_loss: 3.9359 - val_accuracy: 0.2222\n",
      "Epoch 29/50\n",
      "238/238 [==============================] - 0s 470us/step - loss: 3.4804 - accuracy: 0.5000 - val_loss: 3.8655 - val_accuracy: 0.2222\n",
      "Epoch 30/50\n",
      "238/238 [==============================] - 0s 412us/step - loss: 3.3597 - accuracy: 0.5252 - val_loss: 3.7987 - val_accuracy: 0.2222\n",
      "Epoch 31/50\n",
      "238/238 [==============================] - 0s 457us/step - loss: 3.2797 - accuracy: 0.5630 - val_loss: 3.7386 - val_accuracy: 0.1481\n",
      "Epoch 32/50\n",
      "238/238 [==============================] - 0s 405us/step - loss: 3.2211 - accuracy: 0.5294 - val_loss: 3.6772 - val_accuracy: 0.1481\n",
      "Epoch 33/50\n",
      "238/238 [==============================] - 0s 445us/step - loss: 3.1096 - accuracy: 0.5420 - val_loss: 3.6096 - val_accuracy: 0.1852\n",
      "Epoch 34/50\n",
      "238/238 [==============================] - 0s 310us/step - loss: 3.0576 - accuracy: 0.5714 - val_loss: 3.5441 - val_accuracy: 0.2222\n",
      "Epoch 35/50\n",
      "238/238 [==============================] - 0s 754us/step - loss: 2.9826 - accuracy: 0.5630 - val_loss: 3.4840 - val_accuracy: 0.1852\n",
      "Epoch 36/50\n",
      "238/238 [==============================] - 0s 499us/step - loss: 2.8813 - accuracy: 0.6008 - val_loss: 3.4243 - val_accuracy: 0.1852\n",
      "Epoch 37/50\n",
      "238/238 [==============================] - 0s 421us/step - loss: 2.8604 - accuracy: 0.5462 - val_loss: 3.3711 - val_accuracy: 0.2222\n",
      "Epoch 38/50\n",
      "238/238 [==============================] - 0s 520us/step - loss: 2.7929 - accuracy: 0.5630 - val_loss: 3.3301 - val_accuracy: 0.1852\n",
      "Epoch 39/50\n",
      "238/238 [==============================] - 0s 404us/step - loss: 2.6832 - accuracy: 0.5924 - val_loss: 3.2976 - val_accuracy: 0.1111\n",
      "Epoch 40/50\n",
      "238/238 [==============================] - 0s 448us/step - loss: 2.6330 - accuracy: 0.6261 - val_loss: 3.2584 - val_accuracy: 0.1111\n",
      "Epoch 41/50\n",
      "238/238 [==============================] - 0s 449us/step - loss: 2.5553 - accuracy: 0.6429 - val_loss: 3.2146 - val_accuracy: 0.1111\n",
      "Epoch 42/50\n",
      "238/238 [==============================] - 0s 345us/step - loss: 2.4842 - accuracy: 0.6471 - val_loss: 3.1718 - val_accuracy: 0.1111\n",
      "Epoch 43/50\n",
      "238/238 [==============================] - 0s 405us/step - loss: 2.4585 - accuracy: 0.6134 - val_loss: 3.1339 - val_accuracy: 0.1111\n",
      "Epoch 44/50\n",
      "238/238 [==============================] - 0s 409us/step - loss: 2.3830 - accuracy: 0.6345 - val_loss: 3.0756 - val_accuracy: 0.1111\n",
      "Epoch 45/50\n",
      "238/238 [==============================] - 0s 364us/step - loss: 2.3507 - accuracy: 0.6303 - val_loss: 3.0338 - val_accuracy: 0.1111\n",
      "Epoch 46/50\n",
      "238/238 [==============================] - 0s 409us/step - loss: 2.2354 - accuracy: 0.6723 - val_loss: 2.9962 - val_accuracy: 0.0741\n",
      "Epoch 47/50\n",
      "238/238 [==============================] - 0s 485us/step - loss: 2.2471 - accuracy: 0.6429 - val_loss: 2.9457 - val_accuracy: 0.0741\n",
      "Epoch 48/50\n",
      "238/238 [==============================] - 0s 320us/step - loss: 2.1672 - accuracy: 0.6471 - val_loss: 2.8952 - val_accuracy: 0.0741\n",
      "Epoch 49/50\n",
      "238/238 [==============================] - ETA: 0s - loss: 2.1267 - accuracy: 0.65 - 0s 409us/step - loss: 2.1326 - accuracy: 0.6597 - val_loss: 2.8657 - val_accuracy: 0.1111\n",
      "Epoch 50/50\n",
      "238/238 [==============================] - 0s 858us/step - loss: 2.0735 - accuracy: 0.6975 - val_loss: 2.8345 - val_accuracy: 0.1111\n",
      "Done\n"
     ]
    }
   ],
   "source": [
    "history = model.fit(X_1300, y_1300, epochs=50, validation_data=(X_1300_val, y_1300_val))\n",
    "print(\"Done\")"
   ]
  },
  {
   "cell_type": "code",
   "execution_count": 22,
   "metadata": {},
   "outputs": [
    {
     "data": {
      "image/png": "[encoded data removed]",
      "text/plain": [
       "<Figure size 576x360 with 1 Axes>"
      ]
     },
     "metadata": {
      "needs_background": "light"
     },
     "output_type": "display_data"
    }
   ],
   "source": [
    "pd.DataFrame(history.history).plot(figsize=(8, 5))\n",
    "plt.grid()\n",
    "plt.legend()\n",
    "plt.gca().set_ylim(0, 5)\n",
    "plt.show()"
   ]
  },
  {
   "cell_type": "code",
   "execution_count": 23,
   "metadata": {},
   "outputs": [],
   "source": [
    "y_test_1300 -= 1\n",
    "\n",
    "y_test_1300 = keras.utils.to_categorical(y_test_1300)"
   ]
  },
  {
   "cell_type": "code",
   "execution_count": 24,
   "metadata": {},
   "outputs": [
    {
     "name": "stdout",
     "output_type": "stream",
     "text": [
      "30/30 [==============================] - 0s 40us/step\n"
     ]
    },
    {
     "data": {
      "text/plain": [
       "[2.71817684173584, 0.4000000059604645]"
      ]
     },
     "execution_count": 24,
     "metadata": {},
     "output_type": "execute_result"
    }
   ],
   "source": [
    "model.evaluate(X_test_1300, y_test_1300)"
   ]
  },
  {
   "cell_type": "code",
   "execution_count": 26,
   "metadata": {},
   "outputs": [
    {
     "name": "stdout",
     "output_type": "stream",
     "text": [
      "[[0.27 0.12 0.45 0.07 0.08]\n",
      " [0.25 0.24 0.17 0.17 0.17]\n",
      " [0.04 0.23 0.3  0.26 0.17]\n",
      " [0.19 0.12 0.2  0.27 0.22]\n",
      " [0.06 0.13 0.25 0.09 0.47]\n",
      " [0.13 0.27 0.29 0.18 0.13]]\n",
      "Labels: [[0. 0. 0. 1. 0.]\n",
      " [0. 0. 0. 1. 0.]\n",
      " [0. 0. 0. 1. 0.]\n",
      " [0. 1. 0. 0. 0.]\n",
      " [0. 0. 0. 0. 1.]\n",
      " [1. 0. 0. 0. 0.]]\n"
     ]
    }
   ],
   "source": [
    "y_proba = model.predict(X_test_1300)\n",
    "\n",
    "print(f\"{y_proba[:6].round(2)}\")\n",
    "print(f\"Labels: {y_test_1300[:6]}\")"
   ]
  },
  {
   "cell_type": "markdown",
   "metadata": {},
   "source": [
    "Although the model got poor results in the validation data, when tested on the test set it got a 40% accuracy result. The model is also overfitting, so it would be a good idea to adjust the lr value. Also, the loss for the validation data is still dropping after only 50 epochs."
   ]
  },
  {
   "cell_type": "code",
   "execution_count": null,
   "metadata": {},
   "outputs": [],
   "source": []
  }
 ],
 "metadata": {
  "kernelspec": {
   "display_name": "Python 3",
   "language": "python",
   "name": "python3"
  },
  "language_info": {
   "codemirror_mode": {
    "name": "ipython",
    "version": 3
   },
   "file_extension": ".py",
   "mimetype": "text/x-python",
   "name": "python",
   "nbconvert_exporter": "python",
   "pygments_lexer": "ipython3",
   "version": "3.7.3"
  }
 },
 "nbformat": 4,
 "nbformat_minor": 4
}
